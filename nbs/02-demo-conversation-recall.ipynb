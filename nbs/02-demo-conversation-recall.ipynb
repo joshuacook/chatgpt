{
 "cells": [
  {
   "cell_type": "code",
   "execution_count": 1,
   "id": "6d750720-e012-4d7e-ade8-416726f8a49b",
   "metadata": {
    "tags": []
   },
   "outputs": [
    {
     "name": "stdout",
     "output_type": "stream",
     "text": [
      "\n",
      "\n",
      "Generating title...\n",
      "\n",
      "assistant \"Exploring the Benefits and Challenges of Remote Work\""
     ]
    }
   ],
   "source": [
    "from chatgpt.chatbot import Chatbot\n",
    "cli = Chatbot()\n",
    "cli.print_context()"
   ]
  },
  {
   "cell_type": "code",
   "execution_count": 5,
   "id": "3460611a-f1d5-44ab-a6fe-674d94329850",
   "metadata": {
    "tags": []
   },
   "outputs": [
    {
     "name": "stdout",
     "output_type": "stream",
     "text": [
      "assistant \n",
      "\n",
      "As an AI language model, I do not have the ability to create or modify files. However, I can provide instructions on how to create a .flake8 configuration file that allows line lengths of 88 characters.\n",
      "\n",
      "1. Open a text editor of your choice.\n",
      "2. Create a new file named \".flake8\".\n",
      "3. Add the following configuration to the file:\n",
      "\n",
      "        [flake8]\n",
      "        max-line-length = 88\n",
      "\n",
      "4. Save the file in the root directory of your project.\n",
      "\n",
      "This configuration sets the maximum line length allowed by flake8 to 88 characters."
     ]
    }
   ],
   "source": [
    "cli.talk_to_me(\"Would you create a .flake8 file that allows line lengths of 88 characters?\")"
   ]
  },
  {
   "cell_type": "code",
   "execution_count": 6,
   "id": "06b301b4-bb55-4568-b279-11fb17849fa7",
   "metadata": {},
   "outputs": [
    {
     "name": "stdout",
     "output_type": "stream",
     "text": [
      "\n",
      "\n",
      "Generating title...\n",
      "\n",
      "assistant \"Creating a .flake8 Configuration File to Allow Line Lengths of 88 Characters\""
     ]
    }
   ],
   "source": [
    "cli.update_conversation_title()"
   ]
  },
  {
   "cell_type": "code",
   "execution_count": 13,
   "id": "b82e87b6-4c60-4849-8b72-5fd07e27ef91",
   "metadata": {
    "tags": []
   },
   "outputs": [
    {
     "data": {
      "text/html": [
       "<div>\n",
       "<style scoped>\n",
       "    .dataframe tbody tr th:only-of-type {\n",
       "        vertical-align: middle;\n",
       "    }\n",
       "\n",
       "    .dataframe tbody tr th {\n",
       "        vertical-align: top;\n",
       "    }\n",
       "\n",
       "    .dataframe thead th {\n",
       "        text-align: right;\n",
       "    }\n",
       "</style>\n",
       "<table border=\"1\" class=\"dataframe\">\n",
       "  <thead>\n",
       "    <tr style=\"text-align: right;\">\n",
       "      <th></th>\n",
       "      <th>id</th>\n",
       "      <th>title</th>\n",
       "      <th>tags</th>\n",
       "      <th>last_updated</th>\n",
       "    </tr>\n",
       "  </thead>\n",
       "  <tbody>\n",
       "    <tr>\n",
       "      <th>0</th>\n",
       "      <td>10</td>\n",
       "      <td>None</td>\n",
       "      <td>None</td>\n",
       "      <td>2023-03-21 17:57:11</td>\n",
       "    </tr>\n",
       "    <tr>\n",
       "      <th>1</th>\n",
       "      <td>11</td>\n",
       "      <td>None</td>\n",
       "      <td>None</td>\n",
       "      <td>2023-03-21 17:57:11</td>\n",
       "    </tr>\n",
       "    <tr>\n",
       "      <th>2</th>\n",
       "      <td>12</td>\n",
       "      <td>None</td>\n",
       "      <td>None</td>\n",
       "      <td>2023-03-21 17:57:11</td>\n",
       "    </tr>\n",
       "    <tr>\n",
       "      <th>3</th>\n",
       "      <td>7</td>\n",
       "      <td>None</td>\n",
       "      <td>None</td>\n",
       "      <td>2023-03-21 17:57:02</td>\n",
       "    </tr>\n",
       "    <tr>\n",
       "      <th>4</th>\n",
       "      <td>8</td>\n",
       "      <td>None</td>\n",
       "      <td>None</td>\n",
       "      <td>2023-03-21 17:57:02</td>\n",
       "    </tr>\n",
       "    <tr>\n",
       "      <th>5</th>\n",
       "      <td>9</td>\n",
       "      <td>None</td>\n",
       "      <td>None</td>\n",
       "      <td>2023-03-21 17:57:02</td>\n",
       "    </tr>\n",
       "    <tr>\n",
       "      <th>6</th>\n",
       "      <td>6</td>\n",
       "      <td>None</td>\n",
       "      <td>None</td>\n",
       "      <td>2023-03-21 17:47:33</td>\n",
       "    </tr>\n",
       "    <tr>\n",
       "      <th>7</th>\n",
       "      <td>5</td>\n",
       "      <td>None</td>\n",
       "      <td>None</td>\n",
       "      <td>2023-03-21 17:46:52</td>\n",
       "    </tr>\n",
       "    <tr>\n",
       "      <th>8</th>\n",
       "      <td>4</td>\n",
       "      <td>None</td>\n",
       "      <td>None</td>\n",
       "      <td>2023-03-21 17:42:42</td>\n",
       "    </tr>\n",
       "    <tr>\n",
       "      <th>9</th>\n",
       "      <td>3</td>\n",
       "      <td>None</td>\n",
       "      <td>None</td>\n",
       "      <td>2023-03-21 17:42:13</td>\n",
       "    </tr>\n",
       "    <tr>\n",
       "      <th>10</th>\n",
       "      <td>2</td>\n",
       "      <td>\"Creating a .flake8 Configuration File to Allo...</td>\n",
       "      <td>None</td>\n",
       "      <td>2023-03-21 17:36:00</td>\n",
       "    </tr>\n",
       "    <tr>\n",
       "      <th>11</th>\n",
       "      <td>1</td>\n",
       "      <td>\"Managing Context in Conversations Longer than...</td>\n",
       "      <td>None</td>\n",
       "      <td>2023-03-21 16:52:42</td>\n",
       "    </tr>\n",
       "  </tbody>\n",
       "</table>\n",
       "</div>"
      ],
      "text/plain": [
       "    id                                              title  tags  \\\n",
       "0   10                                               None  None   \n",
       "1   11                                               None  None   \n",
       "2   12                                               None  None   \n",
       "3    7                                               None  None   \n",
       "4    8                                               None  None   \n",
       "5    9                                               None  None   \n",
       "6    6                                               None  None   \n",
       "7    5                                               None  None   \n",
       "8    4                                               None  None   \n",
       "9    3                                               None  None   \n",
       "10   2  \"Creating a .flake8 Configuration File to Allo...  None   \n",
       "11   1  \"Managing Context in Conversations Longer than...  None   \n",
       "\n",
       "           last_updated  \n",
       "0   2023-03-21 17:57:11  \n",
       "1   2023-03-21 17:57:11  \n",
       "2   2023-03-21 17:57:11  \n",
       "3   2023-03-21 17:57:02  \n",
       "4   2023-03-21 17:57:02  \n",
       "5   2023-03-21 17:57:02  \n",
       "6   2023-03-21 17:47:33  \n",
       "7   2023-03-21 17:46:52  \n",
       "8   2023-03-21 17:42:42  \n",
       "9   2023-03-21 17:42:13  \n",
       "10  2023-03-21 17:36:00  \n",
       "11  2023-03-21 16:52:42  "
      ]
     },
     "execution_count": 13,
     "metadata": {},
     "output_type": "execute_result"
    }
   ],
   "source": [
    "cli.list_conversations()"
   ]
  },
  {
   "cell_type": "code",
   "execution_count": 8,
   "id": "d7c4a49d-019a-4645-882e-fe08939bb0ea",
   "metadata": {
    "tags": []
   },
   "outputs": [
    {
     "data": {
      "text/markdown": [
       "**USER**:\n",
       "Would you create a .flake8 file that allows line lengths of 88 characters?\n",
       "\n"
      ],
      "text/plain": [
       "<IPython.core.display.Markdown object>"
      ]
     },
     "metadata": {},
     "output_type": "display_data"
    },
    {
     "data": {
      "text/markdown": [
       "**ASSISTANT**:\n",
       "  \n",
       "  \n",
       "As an AI language model, I do not have the ability to create or modify files. However, I can provide instructions on how to create a .flake8 configuration file that allows line lengths of 88 characters.  \n",
       "  \n",
       "1. Open a text editor of your choice.  \n",
       "2. Create a new file named \".flake8\".  \n",
       "3. Add the following configuration to the file:  \n",
       "  \n",
       "        [flake8]  \n",
       "        max-line-length = 88  \n",
       "  \n",
       "4. Save the file in the root directory of your project.  \n",
       "  \n",
       "This configuration sets the maximum line length allowed by flake8 to 88 characters.\n",
       "\n"
      ],
      "text/plain": [
       "<IPython.core.display.Markdown object>"
      ]
     },
     "metadata": {},
     "output_type": "display_data"
    }
   ],
   "source": [
    "cli.print_context()"
   ]
  },
  {
   "cell_type": "code",
   "execution_count": null,
   "id": "ea535be6-6a19-4db4-b2dd-06cf12af4f90",
   "metadata": {},
   "outputs": [],
   "source": []
  }
 ],
 "metadata": {
  "kernelspec": {
   "display_name": "Python 3 (ipykernel)",
   "language": "python",
   "name": "python3"
  },
  "language_info": {
   "codemirror_mode": {
    "name": "ipython",
    "version": 3
   },
   "file_extension": ".py",
   "mimetype": "text/x-python",
   "name": "python",
   "nbconvert_exporter": "python",
   "pygments_lexer": "ipython3",
   "version": "3.10.9"
  }
 },
 "nbformat": 4,
 "nbformat_minor": 5
}
