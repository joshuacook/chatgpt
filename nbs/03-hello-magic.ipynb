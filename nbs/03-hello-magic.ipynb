{
 "cells": [
  {
   "cell_type": "code",
   "execution_count": 1,
   "id": "04370640-0f6f-4302-8fd8-6261f40382c0",
   "metadata": {
    "tags": []
   },
   "outputs": [
    {
     "name": "stdout",
     "output_type": "stream",
     "text": [
      "/Users/joshuacook/working/chatbot\n"
     ]
    }
   ],
   "source": [
    "cd .."
   ]
  },
  {
   "cell_type": "code",
   "execution_count": 2,
   "id": "04c6c2b3-ffc9-4a61-94ab-c4394a4ee208",
   "metadata": {
    "tags": []
   },
   "outputs": [],
   "source": [
    "%load_ext chatgpt.chatbot_magic"
   ]
  },
  {
   "cell_type": "code",
   "execution_count": 3,
   "id": "27873009-5f65-4304-9c1f-124dc59f29cf",
   "metadata": {
    "tags": []
   },
   "outputs": [
    {
     "name": "stdout",
     "output_type": "stream",
     "text": [
      "assistant \n",
      "\n",
      "As an AI language model developed by OpenAI, I did not undergo any training in the traditional sense as humans do. I was developed by OpenAI's team of researchers and engineers using advanced machine learning techniques, and I continue to learn and improve through the data I process and the interactions I have with users.\n",
      "\n",
      "Generating title...\n",
      "\n",
      "assistant \"Understanding the Development and Training of an AI Language Model\""
     ]
    }
   ],
   "source": [
    "%%gpt \n",
    "\n",
    "When did you complete your training?"
   ]
  },
  {
   "cell_type": "code",
   "execution_count": 4,
   "id": "616eb9bc-28bd-4adb-9df5-2a64b3eb7054",
   "metadata": {
    "tags": []
   },
   "outputs": [
    {
     "data": {
      "text/markdown": [
       "**ASSISTANT**:\n",
       "  \n",
       "  \n",
       "As an AI language model developed by OpenAI, I did not undergo any training in the traditional sense as humans do. I was developed by OpenAI's team of researchers and engineers using advanced machine learning techniques, and I continue to learn and improve through the data I process and the interactions I have with users.\n",
       "\n"
      ],
      "text/plain": [
       "<IPython.core.display.Markdown object>"
      ]
     },
     "metadata": {},
     "output_type": "display_data"
    },
    {
     "data": {
      "text/markdown": [
       "**USER**:\n",
       "  \n",
       "When did you complete your training?  \n",
       "\n",
       "\n"
      ],
      "text/plain": [
       "<IPython.core.display.Markdown object>"
      ]
     },
     "metadata": {},
     "output_type": "display_data"
    }
   ],
   "source": [
    "%convo"
   ]
  },
  {
   "cell_type": "code",
   "execution_count": 5,
   "id": "ac86883a-31e8-4335-9028-bd4e2b910341",
   "metadata": {
    "tags": []
   },
   "outputs": [],
   "source": [
    "from chatgpt.chatbot import Chatbot\n",
    "cli = Chatbot(database=\"dynamo\", conversation_id=1)"
   ]
  },
  {
   "cell_type": "code",
   "execution_count": 8,
   "id": "87f49505-ea25-4d03-9a64-69511cf4bb88",
   "metadata": {
    "tags": []
   },
   "outputs": [
    {
     "data": {
      "text/html": [
       "<div>\n",
       "<style scoped>\n",
       "    .dataframe tbody tr th:only-of-type {\n",
       "        vertical-align: middle;\n",
       "    }\n",
       "\n",
       "    .dataframe tbody tr th {\n",
       "        vertical-align: top;\n",
       "    }\n",
       "\n",
       "    .dataframe thead th {\n",
       "        text-align: right;\n",
       "    }\n",
       "</style>\n",
       "<table border=\"1\" class=\"dataframe\">\n",
       "  <thead>\n",
       "    <tr style=\"text-align: right;\">\n",
       "      <th></th>\n",
       "      <th>id</th>\n",
       "      <th>title</th>\n",
       "      <th>tags</th>\n",
       "      <th>last_updated</th>\n",
       "    </tr>\n",
       "  </thead>\n",
       "  <tbody>\n",
       "    <tr>\n",
       "      <th>0</th>\n",
       "      <td>10</td>\n",
       "      <td>\"Understanding the Development and Training of...</td>\n",
       "      <td>NaN</td>\n",
       "      <td>2023-03-21T21:17:35.992Z</td>\n",
       "    </tr>\n",
       "  </tbody>\n",
       "</table>\n",
       "</div>"
      ],
      "text/plain": [
       "   id                                              title  tags  \\\n",
       "0  10  \"Understanding the Development and Training of...   NaN   \n",
       "\n",
       "               last_updated  \n",
       "0  2023-03-21T21:17:35.992Z  "
      ]
     },
     "execution_count": 8,
     "metadata": {},
     "output_type": "execute_result"
    }
   ],
   "source": [
    "cli.list_conversations()"
   ]
  },
  {
   "cell_type": "code",
   "execution_count": null,
   "id": "e4d9fc63-ce15-4731-800c-b870d4a93dcc",
   "metadata": {},
   "outputs": [],
   "source": []
  }
 ],
 "metadata": {
  "kernelspec": {
   "display_name": "Python 3 (ipykernel)",
   "language": "python",
   "name": "python3"
  },
  "language_info": {
   "codemirror_mode": {
    "name": "ipython",
    "version": 3
   },
   "file_extension": ".py",
   "mimetype": "text/x-python",
   "name": "python",
   "nbconvert_exporter": "python",
   "pygments_lexer": "ipython3",
   "version": "3.10.9"
  }
 },
 "nbformat": 4,
 "nbformat_minor": 5
}
