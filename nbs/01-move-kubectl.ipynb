{
 "cells": [
  {
   "cell_type": "code",
   "execution_count": 1,
   "id": "205bf0e8-2bc6-414e-b8a9-4997a5a3f632",
   "metadata": {},
   "outputs": [],
   "source": [
    "from chatbot import Chatbot"
   ]
  },
  {
   "cell_type": "code",
   "execution_count": 2,
   "id": "c7c9d8af-c758-4b6e-af68-fa0c28fdb0a6",
   "metadata": {
    "tags": []
   },
   "outputs": [],
   "source": [
    "cli = Chatbot()"
   ]
  },
  {
   "cell_type": "code",
   "execution_count": 3,
   "id": "1228a4fc-92c6-4f28-9c33-ed6584c134bc",
   "metadata": {
    "tags": []
   },
   "outputs": [],
   "source": [
    "cli.print_context()"
   ]
  },
  {
   "cell_type": "code",
   "execution_count": 4,
   "id": "3e31b704-bb07-46f3-847f-5c27d34209c3",
   "metadata": {
    "tags": []
   },
   "outputs": [
    {
     "name": "stdout",
     "output_type": "stream",
     "text": [
      "assistant \n",
      "\n",
      "To move where you run kubectl to connect to an EKS cluster, you would need to do the following:\n",
      "\n",
      "1. Copy the configuration file for your EKS cluster (usually located in $HOME/.kube/config) from your old computer to your new computer.\n",
      "\n",
      "2. Install the AWS Command Line Interface (CLI) on your new computer if it is not already installed.\n",
      "\n",
      "3. Configure the AWS CLI on your new computer with the same access keys and region as your old computer.\n",
      "\n",
      "4. Test your kubectl configuration by running a command such as kubectl get nodes to ensure that it can connect to your EKS cluster.\n",
      "\n",
      "By completing these steps, you should be able to seamlessly move your kubectl configuration to a new computer and continue working with your EKS cluster without any issues."
     ]
    }
   ],
   "source": [
    "cli.talk_to_me(\"What would I need to move from one computer to another in order to move where I run kubectl to connect to an EKS cluster?\")"
   ]
  },
  {
   "cell_type": "code",
   "execution_count": 8,
   "id": "baccf72c-97e3-4c9a-ae3b-4e4b86229fc1",
   "metadata": {
    "tags": []
   },
   "outputs": [
    {
     "name": "stdout",
     "output_type": "stream",
     "text": [
      "assistant Sure, here's a sample kube config file:\n",
      "\n",
      "```\n",
      "apiVersion: v1\n",
      "clusters:\n",
      "- cluster:\n",
      "    certificate-authority-data: [CERTIFICATE_AUTHORITY_DATA]\n",
      "    server: [SERVER_ENDPOINT]\n",
      "  name: [CLUSTER_NAME]\n",
      "contexts:\n",
      "- context:\n",
      "    cluster: [CLUSTER_NAME]\n",
      "    user: [USER_NAME]\n",
      "  name: [CONTEXT_NAME]\n",
      "current-context: [CONTEXT_NAME]\n",
      "kind: Config\n",
      "preferences: {}\n",
      "users:\n",
      "- name: [USER_NAME]\n",
      "  user:\n",
      "    exec:\n",
      "      apiVersion: client.authentication.k8s.io/v1alpha1\n",
      "      command: aws-iam-authenticator\n",
      "      args:\n",
      "        - \"token\"\n",
      "        - \"-i\"\n",
      "        - [CLUSTER_NAME]\n",
      "```\n",
      "\n",
      "This is a YAML file that contains the configuration information for kubectl to connect to a Kubernetes cluster. Here's what each field means:\n",
      "\n",
      "- `apiVersion`: The version of the Kubernetes API that this configuration file is compatible with.\n",
      "- `clusters`: Configuration for the Kubernetes cluster(s) that kubectl can connect to. In this example, there is only one cluster defined.\n",
      "- `cluster`: Configuration for a specific cluster. This includes the server endpoint and certificate authority data needed to authenticate.\n",
      "- `name`: A name for the cluster configuration.\n",
      "- `contexts`: Configuration for the contexts that kubectl can switch between. A context includes a cluster and user configuration.\n",
      "- `context`: Configuration for a specific context.\n",
      "- `user`: Configuration for a specific user.\n",
      "- `exec`: A way to configure kubectl to use an external command to authenticate with the cluster. In this example, we're using the AWS IAM Authenticator to authenticate using an AWS IAM user.\n",
      "- `args`: Arguments to pass to the external command, including the name of the cluster.\n",
      "\n",
      "You'll need to replace the variables in square brackets with the actual values for your cluster and authentication method."
     ]
    }
   ],
   "source": [
    "cli.talk_to_me(\"would you show me a smaple kube config file?\")"
   ]
  },
  {
   "cell_type": "code",
   "execution_count": 10,
   "id": "8f3f4fd0-3800-4063-a416-db5eb1772b4b",
   "metadata": {
    "tags": []
   },
   "outputs": [
    {
     "name": "stdout",
     "output_type": "stream",
     "text": [
      "USER\n",
      "What would I need to move from one computer to another in order to move where I run kubectl to connect to an EKS cluster?\n",
      "\n",
      "ASSISTANT\n",
      "\n",
      "\n",
      "To move where you run kubectl to connect to an EKS cluster, you would need to do the following:\n",
      "\n",
      "1. Copy the configuration file for your EKS cluster (usually located in $HOME/.kube/config) from your old computer to your new computer.\n",
      "\n",
      "2. Install the AWS Command Line Interface (CLI) on your new computer if it is not already installed.\n",
      "\n",
      "3. Configure the AWS CLI on your new computer with the same access keys and region as your old computer.\n",
      "\n",
      "4. Test your kubectl configuration by running a command such as kubectl get nodes to ensure that it can connect to your EKS cluster.\n",
      "\n",
      "By completing these steps, you should be able to seamlessly move your kubectl configuration to a new computer and continue working with your EKS cluster without any issues.\n",
      "\n",
      "USER\n",
      "would you show me a smaple kube config file?\n",
      "\n",
      "ASSISTANT\n",
      "Sure, here's a sample kube config file:\n",
      "\n",
      "```\n",
      "apiVersion: v1\n",
      "clusters:\n",
      "- cluster:\n",
      "    certificate-authority-data: [CERTIFICATE_AUTHORITY_DATA]\n",
      "    server: [SERVER_ENDPOINT]\n",
      "  name: [CLUSTER_NAME]\n",
      "contexts:\n",
      "- context:\n",
      "    cluster: [CLUSTER_NAME]\n",
      "    user: [USER_NAME]\n",
      "  name: [CONTEXT_NAME]\n",
      "current-context: [CONTEXT_NAME]\n",
      "kind: Config\n",
      "preferences: {}\n",
      "users:\n",
      "- name: [USER_NAME]\n",
      "  user:\n",
      "    exec:\n",
      "      apiVersion: client.authentication.k8s.io/v1alpha1\n",
      "      command: aws-iam-authenticator\n",
      "      args:\n",
      "        - \"token\"\n",
      "        - \"-i\"\n",
      "        - [CLUSTER_NAME]\n",
      "```\n",
      "\n",
      "This is a YAML file that contains the configuration information for kubectl to connect to a Kubernetes cluster. Here's what each field means:\n",
      "\n",
      "- `apiVersion`: The version of the Kubernetes API that this configuration file is compatible with.\n",
      "- `clusters`: Configuration for the Kubernetes cluster(s) that kubectl can connect to. In this example, there is only one cluster defined.\n",
      "- `cluster`: Configuration for a specific cluster. This includes the server endpoint and certificate authority data needed to authenticate.\n",
      "- `name`: A name for the cluster configuration.\n",
      "- `contexts`: Configuration for the contexts that kubectl can switch between. A context includes a cluster and user configuration.\n",
      "- `context`: Configuration for a specific context.\n",
      "- `user`: Configuration for a specific user.\n",
      "- `exec`: A way to configure kubectl to use an external command to authenticate with the cluster. In this example, we're using the AWS IAM Authenticator to authenticate using an AWS IAM user.\n",
      "- `args`: Arguments to pass to the external command, including the name of the cluster.\n",
      "\n",
      "You'll need to replace the variables in square brackets with the actual values for your cluster and authentication method.\n",
      "\n"
     ]
    }
   ],
   "source": [
    "cli.print_context()"
   ]
  },
  {
   "cell_type": "code",
   "execution_count": null,
   "id": "649dc8dc-5ad5-4d29-92c5-79f4ed4d3be9",
   "metadata": {},
   "outputs": [],
   "source": []
  }
 ],
 "metadata": {
  "kernelspec": {
   "display_name": "Python 3 (ipykernel)",
   "language": "python",
   "name": "python3"
  },
  "language_info": {
   "codemirror_mode": {
    "name": "ipython",
    "version": 3
   },
   "file_extension": ".py",
   "mimetype": "text/x-python",
   "name": "python",
   "nbconvert_exporter": "python",
   "pygments_lexer": "ipython3",
   "version": "3.10.9"
  }
 },
 "nbformat": 4,
 "nbformat_minor": 5
}
