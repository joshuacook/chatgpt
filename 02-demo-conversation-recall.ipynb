{
 "cells": [
  {
   "cell_type": "code",
   "execution_count": 1,
   "id": "6d750720-e012-4d7e-ade8-416726f8a49b",
   "metadata": {
    "tags": []
   },
   "outputs": [
    {
     "name": "stdout",
     "output_type": "stream",
     "text": [
      "USER\n",
      "What would I need to move from one computer to another in order to move where I run kubectl to connect to an EKS cluster?\n",
      "\n",
      "ASSISTANT\n",
      "\n",
      "\n",
      "To move where you run kubectl to connect to an EKS cluster, you would need to do the following:\n",
      "\n",
      "1. Copy the configuration file for your EKS cluster (usually located in $HOME/.kube/config) from your old computer to your new computer.\n",
      "\n",
      "2. Install the AWS Command Line Interface (CLI) on your new computer if it is not already installed.\n",
      "\n",
      "3. Configure the AWS CLI on your new computer with the same access keys and region as your old computer.\n",
      "\n",
      "4. Test your kubectl configuration by running a command such as kubectl get nodes to ensure that it can connect to your EKS cluster.\n",
      "\n",
      "By completing these steps, you should be able to seamlessly move your kubectl configuration to a new computer and continue working with your EKS cluster without any issues.\n",
      "\n",
      "USER\n",
      "would you show me a smaple kube config file?\n",
      "\n",
      "ASSISTANT\n",
      "Sure, here's a sample kube config file:\n",
      "\n",
      "```\n",
      "apiVersion: v1\n",
      "clusters:\n",
      "- cluster:\n",
      "    certificate-authority-data: [CERTIFICATE_AUTHORITY_DATA]\n",
      "    server: [SERVER_ENDPOINT]\n",
      "  name: [CLUSTER_NAME]\n",
      "contexts:\n",
      "- context:\n",
      "    cluster: [CLUSTER_NAME]\n",
      "    user: [USER_NAME]\n",
      "  name: [CONTEXT_NAME]\n",
      "current-context: [CONTEXT_NAME]\n",
      "kind: Config\n",
      "preferences: {}\n",
      "users:\n",
      "- name: [USER_NAME]\n",
      "  user:\n",
      "    exec:\n",
      "      apiVersion: client.authentication.k8s.io/v1alpha1\n",
      "      command: aws-iam-authenticator\n",
      "      args:\n",
      "        - \"token\"\n",
      "        - \"-i\"\n",
      "        - [CLUSTER_NAME]\n",
      "```\n",
      "\n",
      "This is a YAML file that contains the configuration information for kubectl to connect to a Kubernetes cluster. Here's what each field means:\n",
      "\n",
      "- `apiVersion`: The version of the Kubernetes API that this configuration file is compatible with.\n",
      "- `clusters`: Configuration for the Kubernetes cluster(s) that kubectl can connect to. In this example, there is only one cluster defined.\n",
      "- `cluster`: Configuration for a specific cluster. This includes the server endpoint and certificate authority data needed to authenticate.\n",
      "- `name`: A name for the cluster configuration.\n",
      "- `contexts`: Configuration for the contexts that kubectl can switch between. A context includes a cluster and user configuration.\n",
      "- `context`: Configuration for a specific context.\n",
      "- `user`: Configuration for a specific user.\n",
      "- `exec`: A way to configure kubectl to use an external command to authenticate with the cluster. In this example, we're using the AWS IAM Authenticator to authenticate using an AWS IAM user.\n",
      "- `args`: Arguments to pass to the external command, including the name of the cluster.\n",
      "\n",
      "You'll need to replace the variables in square brackets with the actual values for your cluster and authentication method.\n",
      "\n"
     ]
    }
   ],
   "source": [
    "from chatbot import Chatbot\n",
    "cli = Chatbot(conversation_id=2)\n",
    "cli.print_context()"
   ]
  },
  {
   "cell_type": "code",
   "execution_count": null,
   "id": "06b301b4-bb55-4568-b279-11fb17849fa7",
   "metadata": {},
   "outputs": [],
   "source": []
  }
 ],
 "metadata": {
  "kernelspec": {
   "display_name": "Python 3 (ipykernel)",
   "language": "python",
   "name": "python3"
  },
  "language_info": {
   "codemirror_mode": {
    "name": "ipython",
    "version": 3
   },
   "file_extension": ".py",
   "mimetype": "text/x-python",
   "name": "python",
   "nbconvert_exporter": "python",
   "pygments_lexer": "ipython3",
   "version": "3.10.9"
  }
 },
 "nbformat": 4,
 "nbformat_minor": 5
}
